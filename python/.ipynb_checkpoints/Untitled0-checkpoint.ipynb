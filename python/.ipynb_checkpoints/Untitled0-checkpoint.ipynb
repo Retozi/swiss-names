{
 "metadata": {
  "name": "",
  "signature": "sha256:e9b4d63a757e0f45e460c6e6c740a982c3df699ea34121098ee47c316f696cf0"
 },
 "nbformat": 3,
 "nbformat_minor": 0,
 "worksheets": []
}